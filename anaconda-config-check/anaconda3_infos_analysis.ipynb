{
 "cells": [
  {
   "cell_type": "markdown",
   "metadata": {},
   "source": [
    "### python在数据科学方面需要用到的库：\n",
    "\n",
    "- numpy：科学计算库。提供矩阵运算的库。\n",
    "\n",
    "- pandas：数据分析处理库\n",
    "\n",
    "- scipy：数值计算库。提供数值积分和常微分方程组求解算法。提供了一个非常广泛的特定函数集合。\n",
    "\n",
    "- Matplotlib：数据可视化库\n"
   ]
  },
  {
   "cell_type": "markdown",
   "metadata": {},
   "source": [
    "### 1   当前路径信息（内核Python 3.6）"
   ]
  },
  {
   "cell_type": "code",
   "execution_count": 1,
   "metadata": {},
   "outputs": [
    {
     "data": {
      "text/plain": [
       "['',\n",
       " '/root/anaconda3/lib/python36.zip',\n",
       " '/root/anaconda3/lib/python3.6',\n",
       " '/root/anaconda3/lib/python3.6/lib-dynload',\n",
       " '/root/anaconda3/lib/python3.6/site-packages',\n",
       " '/root/anaconda3/lib/python3.6/site-packages/Sphinx-1.5.6-py3.6.egg',\n",
       " '/root/anaconda3/lib/python3.6/site-packages/setuptools-27.2.0-py3.6.egg',\n",
       " '/root/anaconda3/lib/python3.6/site-packages/IPython/extensions',\n",
       " '/root/.ipython']"
      ]
     },
     "execution_count": 1,
     "metadata": {},
     "output_type": "execute_result"
    }
   ],
   "source": [
    "import sys\n",
    "\n",
    "sys.path"
   ]
  },
  {
   "cell_type": "markdown",
   "metadata": {},
   "source": [
    "### 2  科学计算常用包版本及路径信息"
   ]
  },
  {
   "cell_type": "code",
   "execution_count": 3,
   "metadata": {},
   "outputs": [
    {
     "data": {
      "text/html": [
       "<div>\n",
       "<style>\n",
       "    .dataframe thead tr:only-child th {\n",
       "        text-align: right;\n",
       "    }\n",
       "\n",
       "    .dataframe thead th {\n",
       "        text-align: left;\n",
       "    }\n",
       "\n",
       "    .dataframe tbody tr th {\n",
       "        vertical-align: top;\n",
       "    }\n",
       "</style>\n",
       "<table border=\"1\" class=\"dataframe\">\n",
       "  <thead>\n",
       "    <tr style=\"text-align: right;\">\n",
       "      <th></th>\n",
       "      <th>pack_name</th>\n",
       "      <th>version</th>\n",
       "      <th>path</th>\n",
       "    </tr>\n",
       "  </thead>\n",
       "  <tbody>\n",
       "    <tr>\n",
       "      <th>0</th>\n",
       "      <td>numpy</td>\n",
       "      <td>1.12.1</td>\n",
       "      <td>/root/anaconda3/lib/python3.6/site-packages/numpy/__init__.py</td>\n",
       "    </tr>\n",
       "    <tr>\n",
       "      <th>1</th>\n",
       "      <td>matplotlib</td>\n",
       "      <td>2.0.2</td>\n",
       "      <td>/root/anaconda3/lib/python3.6/site-packages/matplotlib/__init__.py</td>\n",
       "    </tr>\n",
       "    <tr>\n",
       "      <th>2</th>\n",
       "      <td>pandas</td>\n",
       "      <td>0.20.1</td>\n",
       "      <td>/root/anaconda3/lib/python3.6/site-packages/pandas/__init__.py</td>\n",
       "    </tr>\n",
       "    <tr>\n",
       "      <th>3</th>\n",
       "      <td>scipy</td>\n",
       "      <td>0.19.0</td>\n",
       "      <td>/root/anaconda3/lib/python3.6/site-packages/scipy/__init__.py</td>\n",
       "    </tr>\n",
       "  </tbody>\n",
       "</table>\n",
       "</div>"
      ],
      "text/plain": [
       "    pack_name version  \\\n",
       "0       numpy  1.12.1   \n",
       "1  matplotlib   2.0.2   \n",
       "2      pandas  0.20.1   \n",
       "3       scipy  0.19.0   \n",
       "\n",
       "                                                                 path  \n",
       "0       /root/anaconda3/lib/python3.6/site-packages/numpy/__init__.py  \n",
       "1  /root/anaconda3/lib/python3.6/site-packages/matplotlib/__init__.py  \n",
       "2      /root/anaconda3/lib/python3.6/site-packages/pandas/__init__.py  \n",
       "3       /root/anaconda3/lib/python3.6/site-packages/scipy/__init__.py  "
      ]
     },
     "execution_count": 3,
     "metadata": {},
     "output_type": "execute_result"
    }
   ],
   "source": [
    "import numpy\n",
    "import matplotlib\n",
    "import pandas as pd\n",
    "import scipy\n",
    "\n",
    "packs = [\n",
    "    (\"numpy\", numpy.__version__, numpy.__file__),\n",
    "    (\"matplotlib\", matplotlib.__version__, matplotlib.__file__),\n",
    "    (\"pandas\", pd.__version__, pd.__file__),\n",
    "    (\"scipy\", scipy.__version__, scipy.__file__)\n",
    "]\n",
    "\n",
    "pd_packages = pd.DataFrame(packs, columns=[\"pack_name\", \"version\", \"path\"])\n",
    "pd.set_option(\"max_colwidth\", 120)\n",
    "pd_packages"
   ]
  },
  {
   "cell_type": "markdown",
   "metadata": {},
   "source": [
    "### 3  Anaconda3 集成包简单分析"
   ]
  },
  {
   "cell_type": "code",
   "execution_count": 4,
   "metadata": {
    "collapsed": true
   },
   "outputs": [],
   "source": [
    "import sys\n",
    "%matplotlib inline\n",
    "\n",
    "packages = [pack.split(\".\")[0] for pack in sys.modules.keys()]\n",
    "pd_packages = pd.DataFrame(packages, columns=[\"package\"])\n",
    "pack_series = pd_packages.groupby(by=\"package\").size()"
   ]
  },
  {
   "cell_type": "code",
   "execution_count": 5,
   "metadata": {},
   "outputs": [
    {
     "data": {
      "text/plain": [
       "count    229.000000\n",
       "mean       4.978166\n",
       "std       16.714697\n",
       "min        1.000000\n",
       "25%        1.000000\n",
       "50%        1.000000\n",
       "75%        1.000000\n",
       "max      169.000000\n",
       "dtype: float64"
      ]
     },
     "execution_count": 5,
     "metadata": {},
     "output_type": "execute_result"
    }
   ],
   "source": [
    "pack_series.describe()"
   ]
  },
  {
   "cell_type": "code",
   "execution_count": 6,
   "metadata": {},
   "outputs": [
    {
     "data": {
      "text/plain": [
       "229"
      ]
     },
     "execution_count": 6,
     "metadata": {},
     "output_type": "execute_result"
    }
   ],
   "source": [
    "pack_series.index.duplicated()\n",
    "pack_temp = pack_series.index.drop_duplicates()\n",
    "len(pack_temp)"
   ]
  },
  {
   "cell_type": "markdown",
   "metadata": {},
   "source": [
    "### 3.1  根据 Anaconda 3包中的模块数量倒序 绘图"
   ]
  },
  {
   "cell_type": "code",
   "execution_count": 10,
   "metadata": {},
   "outputs": [
    {
     "data": {
      "image/png": "[encoded data removed]",
      "text/plain": [
       "<matplotlib.figure.Figure at 0x7fdc918c1438>"
      ]
     },
     "metadata": {},
     "output_type": "display_data"
    }
   ],
   "source": [
    "pack_series.sort_values(ascending=False)[:50].plot();"
   ]
  },
  {
   "cell_type": "code",
   "execution_count": 11,
   "metadata": {},
   "outputs": [
    {
     "data": {
      "text/plain": [
       "package\n",
       "pandas            169\n",
       "IPython           118\n",
       "matplotlib         85\n",
       "numpy              82\n",
       "prompt_toolkit     70\n",
       "_pytest            36\n",
       "xlsxwriter         32\n",
       "zmq                31\n",
       "ipywidgets         25\n",
       "py                 25\n",
       "ipykernel          23\n",
       "pygments           20\n",
       "jupyter_client     19\n",
       "pkg_resources      18\n",
       "bottleneck         17\n",
       "dtype: int64"
      ]
     },
     "execution_count": 11,
     "metadata": {},
     "output_type": "execute_result"
    }
   ],
   "source": [
    "pack_series.sort_values(ascending=False)[:15]"
   ]
  },
  {
   "cell_type": "markdown",
   "metadata": {},
   "source": [
    "### 3.2  Aanaconda 3 中模块信息"
   ]
  },
  {
   "cell_type": "code",
   "execution_count": 14,
   "metadata": {
    "scrolled": false
   },
   "outputs": [
    {
     "name": "stdout",
     "output_type": "stream",
     "text": [
      "\n",
      "Please wait a moment while I gather a list of all available modules...\n",
      "\n"
     ]
    },
    {
     "name": "stderr",
     "output_type": "stream",
     "text": [
      "/root/anaconda3/lib/python3.6/site-packages/IPython/kernel/__init__.py:13: ShimWarning: The `IPython.kernel` package has been deprecated since IPython 4.0.You should import from ipykernel or jupyter_client instead.\n",
      "  \"You should import from ipykernel or jupyter_client instead.\", ShimWarning)\n",
      "/root/anaconda3/lib/python3.6/site-packages/odo/backends/pandas.py:94: FutureWarning: pandas.tslib is deprecated and will be removed in a future version.\n",
      "You can access NaTType as type(pandas.NaT)\n",
      "  @convert.register((pd.Timestamp, pd.Timedelta), (pd.tslib.NaTType, type(None)))\n",
      "/root/anaconda3/lib/python3.6/site-packages/blaze/server/server.py:17: ExtDeprecationWarning: Importing flask.ext.cors is deprecated, use flask_cors instead.\n",
      "  from flask.ext.cors import cross_origin\n",
      "/root/anaconda3/lib/python3.6/site-packages/bokeh/util/deprecation.py:34: BokehDeprecationWarning: MPL compatibility can no longer be successfully maintained, and is now deprecated. All MPL compat functions will be removed completely on the release of Bokeh 1.0. See http://bokeh.pydata.org/en/latest/docs/releases/0.12.5.html for more information\n",
      "  warn(message)\n",
      "/root/anaconda3/lib/python3.6/site-packages/matplotlib/cbook.py:136: MatplotlibDeprecationWarning: The matplotlib.delaunay module was deprecated in version 1.4. Use matplotlib.tri.Triangulation instead.\n",
      "  warnings.warn(message, mplDeprecation, stacklevel=1)\n",
      "/root/anaconda3/lib/python3.6/site-packages/nltk/twitter/__init__.py:20: UserWarning: The twython library has not been installed. Some functionality from the twitter package will not be available.\n",
      "  warnings.warn(\"The twython library has not been installed. \"\n",
      "/root/anaconda3/lib/python3.6/site-packages/skimage/viewer/utils/core.py:10: UserWarning: Recommended matplotlib backend is `Agg` for full skimage.viewer functionality.\n",
      "  warn(\"Recommended matplotlib backend is `Agg` for full \"\n",
      "/root/anaconda3/lib/python3.6/site-packages/qtawesome/iconic_font.py:268: UserWarning: You need to have a running QApplication to use QtAwesome!\n",
      "  warnings.warn(\"You need to have a running \"\n",
      "/root/anaconda3/lib/python3.6/site-packages/statsmodels/compat/pandas.py:56: FutureWarning: The pandas.core.datetools module is deprecated and will be removed in a future version. Please use the pandas.tseries module instead.\n",
      "  from pandas.core import datetools\n"
     ]
    },
    {
     "name": "stdout",
     "output_type": "stream",
     "text": [
      "Crypto              brain_nose          jupyter_core        scipy\n",
      "Cython              brain_numpy         keyword             scripts\n",
      "IPython             brain_pytest        lazy_object_proxy   seaborn\n",
      "OleFileIO_PL        brain_qt            lib2to3             secrets\n",
      "OpenSSL             brain_six           linecache           select\n",
      "PIL                 brain_ssl           llvmlite            selectors\n",
      "PyQt5               brain_stdlib        locale              setuptools\n",
      "__future__          bs4                 locket              shelve\n",
      "_ast                builtins            logging             shlex\n",
      "_asyncio            bz2                 lxml                shutil\n",
      "_bisect             cProfile            lzma                signal\n",
      "_blake2             calendar            macpath             simplegeneric\n",
      "_bootlocale         cffi                macurl2path         singledispatch\n",
      "_bz2                cgi                 mailbox             singledispatch_helpers\n",
      "_cffi_backend       cgitb               mailcap             sip\n",
      "_codecs             chardet             markupsafe          sipconfig\n",
      "_codecs_cn          chunk               marshal             sipdistutils\n",
      "_codecs_hk          click               math                site\n",
      "_codecs_iso2022     cloudpickle         matplotlib          six\n",
      "_codecs_jp          clyent              mimetypes           skimage\n",
      "_codecs_kr          cmath               mistune             sklearn\n",
      "_codecs_tw          cmd                 mkl                 smtpd\n",
      "_collections        code                mmap                smtplib\n",
      "_collections_abc    codecs              modulefinder        sndhdr\n",
      "_compat_pickle      codeop              mpl_toolkits        snowballstemmer\n",
      "_compression        collections         mpmath              socket\n",
      "_crypt              colorama            msgpack             socketserver\n",
      "_csv                colorsys            multipledispatch    sortedcollections\n",
      "_ctypes             compileall          multiprocessing     sortedcontainers\n",
      "_ctypes_test        concurrent          navigator_updater   sphinx\n",
      "_curses             conda               nbconvert           spwd\n",
      "_curses_panel       conda_env           nbformat            spyder\n",
      "_datetime           configparser        netrc               spyder_breakpoints\n",
      "_decimal            contextlib          networkx            spyder_io_dcm\n",
      "_dummy_thread       contextlib2         nis                 spyder_io_hdf5\n",
      "_elementtree        copy                nltk                spyder_profiler\n",
      "_functools          copyreg             nntplib             spyder_pylint\n",
      "_hashlib            crypt               nose                sqlalchemy\n",
      "_heapq              cryptography        notebook            sqlite3\n",
      "_imp                csv                 ntpath              sre_compile\n",
      "_io                 ctypes              nturl2path          sre_constants\n",
      "_json               curl                numba               sre_parse\n",
      "_license            curses              numbers             ssl\n",
      "_locale             cycler              numexpr             stat\n",
      "_lsprof             cython              numpy               statistics\n",
      "_lzma               cythonmagic         numpydoc            statsmodels\n",
      "_markupbase         cytoolz             odo                 storemagic\n",
      "_md5                dask                olefile             string\n",
      "_multibytecodec     datashape           opcode              stringprep\n",
      "_multiprocessing    datetime            openpyxl            struct\n",
      "_opcode             dateutil            operator            subprocess\n",
      "_operator           dbm                 optparse            sunau\n",
      "_osx_support        decimal             os                  symbol\n",
      "_pickle             decorator           ossaudiodev         sympy\n",
      "_posixsubprocess    difflib             packaging           sympyprinting\n",
      "_pydecimal          dis                 pandas              symtable\n",
      "_pyio               distributed         pandocfilters       sys\n",
      "_pytest             distutils           parser              sysconfig\n",
      "_random             doctest             partd               syslog\n",
      "_sha1               docutils            path                tables\n",
      "_sha256             dummy_threading     pathlib             tabnanny\n",
      "_sha3               easy_install        pathlib2            tarfile\n",
      "_sha512             email               patsy               tblib\n",
      "_signal             encodings           pdb                 telnetlib\n",
      "_sitebuiltins       entrypoints         pep8                tempfile\n",
      "_socket             enum                pexpect             terminado\n",
      "_sqlite3            errno               pickle              termios\n",
      "_sre                et_xmlfile          pickleshare         test_path\n",
      "_ssl                fastcache           pickletools         test_pycosat\n",
      "_stat               faulthandler        pip                 testpath\n",
      "_string             fcntl               pipes               tests\n",
      "_strptime           filecmp             pkg_resources       textwrap\n",
      "_struct             fileinput           pkgutil             this\n",
      "_symtable           flask               platform            threading\n",
      "_sysconfigdata_m_linux_x86_64-linux-gnu flask_cors          plistlib            time\n",
      "_testbuffer         fnmatch             ply                 timeit\n",
      "_testcapi           formatter           poplib              tkinter\n",
      "_testimportmultiple fractions           posix               tlz\n",
      "_testmultiphase     ftplib              posixpath           token\n",
      "_thread             functools           pprint              tokenize\n",
      "_threading_local    gc                  profile             toolz\n",
      "_tkinter            genericpath         prompt_toolkit      tornado\n",
      "_tracemalloc        getopt              pstats              trace\n",
      "_warnings           getpass             psutil              traceback\n",
      "_weakref            gettext             pty                 tracemalloc\n",
      "_weakrefset         gevent              ptyprocess          traitlets\n",
      "_yaml               glob                pwd                 tty\n",
      "abc                 greenlet            py                  turtle\n",
      "aifc                grp                 py_compile          turtledemo\n",
      "alabaster           gzip                pyclbr              types\n",
      "anaconda_navigator  h5py                pycosat             typing\n",
      "anaconda_project    hashlib             pycparser           unicodecsv\n",
      "antigravity         heapdict            pycurl              unicodedata\n",
      "argparse            heapq               pydoc               unittest\n",
      "array               hmac                pydoc_data          urllib\n",
      "asn1crypto          html                pyexpat             uu\n",
      "ast                 html5lib            pyflakes            uuid\n",
      "astroid             http                pygments            venv\n",
      "astropy             idlelib             pylab               warnings\n",
      "asynchat            idna                pylint              wave\n",
      "asyncio             imagesize           pyodbc              wcwidth\n",
      "asyncore            imaplib             pyparsing           weakref\n",
      "atexit              imghdr              pytest              webbrowser\n",
      "audioop             imp                 pytz                werkzeug\n",
      "autoreload          importlib           pywt                wheel\n",
      "babel               inspect             pyximport           widgetsnbextension\n",
      "backports           io                  qtawesome           wrapt\n",
      "base64              ipaddress           qtconsole           wsgiref\n",
      "bdb                 ipykernel           qtpy                xdrlib\n",
      "binascii            ipykernel_launcher  queue               xlrd\n",
      "binhex              ipython_genutils    quopri              xlsxwriter\n",
      "binstar_client      ipywidgets          random              xlwt\n",
      "bisect              isort               re                  xml\n",
      "bitarray            itertools           readline            xmlrpc\n",
      "blaze               itsdangerous        reprlib             xxlimited\n",
      "bleach              jdcal               requests            xxsubtype\n",
      "bokeh               jedi                resource            yaml\n",
      "boto                jinja2              rlcompleter         zict\n",
      "bottleneck          json                rmagic              zipapp\n",
      "brain_builtin_inference jsonschema          rope                zipfile\n",
      "brain_dateutil      jupyter             ruamel_yaml         zipimport\n",
      "brain_gi            jupyter_client      runpy               zlib\n",
      "brain_mechanize     jupyter_console     sched               zmq\n",
      "\n",
      "Enter any module name to get more help.  Or, type \"modules spam\" to search\n",
      "for modules whose name or summary contain the string \"spam\".\n",
      "\n"
     ]
    }
   ],
   "source": [
    "help(\"modules\")"
   ]
  }
 ],
 "metadata": {
  "kernelspec": {
   "display_name": "Python 3",
   "language": "python",
   "name": "python3"
  },
  "language_info": {
   "codemirror_mode": {
    "name": "ipython",
    "version": 3
   },
   "file_extension": ".py",
   "mimetype": "text/x-python",
   "name": "python",
   "nbconvert_exporter": "python",
   "pygments_lexer": "ipython3",
   "version": "3.6.1"
  }
 },
 "nbformat": 4,
 "nbformat_minor": 2
}
