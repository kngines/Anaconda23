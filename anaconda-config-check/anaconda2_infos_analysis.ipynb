{
 "cells": [
  {
   "cell_type": "markdown",
   "metadata": {},
   "source": [
    "### python在数据科学方面需要用到的库：\n",
    "\n",
    "- numpy：科学计算库。提供矩阵运算的库。\n",
    "\n",
    "- pandas：数据分析处理库\n",
    "\n",
    "- scipy：数值计算库。提供数值积分和常微分方程组求解算法。提供了一个非常广泛的特定函数集合。\n",
    "\n",
    "- Matplotlib：数据可视化库\n"
   ]
  },
  {
   "cell_type": "markdown",
   "metadata": {},
   "source": [
    "### 1   当前路径信息（内核Python 2.7）"
   ]
  },
  {
   "cell_type": "code",
   "execution_count": 3,
   "metadata": {},
   "outputs": [
    {
     "data": {
      "text/plain": [
       "['',\n",
       " '/root/anaconda2/lib/python27.zip',\n",
       " '/root/anaconda2/lib/python2.7',\n",
       " '/root/anaconda2/lib/python2.7/plat-linux2',\n",
       " '/root/anaconda2/lib/python2.7/lib-tk',\n",
       " '/root/anaconda2/lib/python2.7/lib-old',\n",
       " '/root/anaconda2/lib/python2.7/lib-dynload',\n",
       " '/root/anaconda2/lib/python2.7/site-packages',\n",
       " '/root/anaconda2/lib/python2.7/site-packages/Sphinx-1.5.6-py2.7.egg',\n",
       " '/root/anaconda2/lib/python2.7/site-packages/setuptools-27.2.0-py2.7.egg',\n",
       " '/root/anaconda2/lib/python2.7/site-packages/IPython/extensions',\n",
       " '/root/.ipython']"
      ]
     },
     "execution_count": 3,
     "metadata": {},
     "output_type": "execute_result"
    }
   ],
   "source": [
    "import sys\n",
    "\n",
    "sys.path"
   ]
  },
  {
   "cell_type": "markdown",
   "metadata": {},
   "source": [
    "### 2  科学计算常用包版本及路径信息"
   ]
  },
  {
   "cell_type": "code",
   "execution_count": 4,
   "metadata": {},
   "outputs": [
    {
     "data": {
      "text/html": [
       "<div>\n",
       "<style>\n",
       "    .dataframe thead tr:only-child th {\n",
       "        text-align: right;\n",
       "    }\n",
       "\n",
       "    .dataframe thead th {\n",
       "        text-align: left;\n",
       "    }\n",
       "\n",
       "    .dataframe tbody tr th {\n",
       "        vertical-align: top;\n",
       "    }\n",
       "</style>\n",
       "<table border=\"1\" class=\"dataframe\">\n",
       "  <thead>\n",
       "    <tr style=\"text-align: right;\">\n",
       "      <th></th>\n",
       "      <th>pack_name</th>\n",
       "      <th>version</th>\n",
       "      <th>path</th>\n",
       "    </tr>\n",
       "  </thead>\n",
       "  <tbody>\n",
       "    <tr>\n",
       "      <th>0</th>\n",
       "      <td>numpy</td>\n",
       "      <td>1.12.1</td>\n",
       "      <td>/root/anaconda2/lib/python2.7/site-packages/numpy/__init__.pyc</td>\n",
       "    </tr>\n",
       "    <tr>\n",
       "      <th>1</th>\n",
       "      <td>matplotlib</td>\n",
       "      <td>2.0.2</td>\n",
       "      <td>/root/anaconda2/lib/python2.7/site-packages/matplotlib/__init__.pyc</td>\n",
       "    </tr>\n",
       "    <tr>\n",
       "      <th>2</th>\n",
       "      <td>pandas</td>\n",
       "      <td>0.20.1</td>\n",
       "      <td>/root/anaconda2/lib/python2.7/site-packages/pandas/__init__.pyc</td>\n",
       "    </tr>\n",
       "    <tr>\n",
       "      <th>3</th>\n",
       "      <td>scipy</td>\n",
       "      <td>0.19.0</td>\n",
       "      <td>/root/anaconda2/lib/python2.7/site-packages/scipy/__init__.pyc</td>\n",
       "    </tr>\n",
       "  </tbody>\n",
       "</table>\n",
       "</div>"
      ],
      "text/plain": [
       "    pack_name version  \\\n",
       "0       numpy  1.12.1   \n",
       "1  matplotlib   2.0.2   \n",
       "2      pandas  0.20.1   \n",
       "3       scipy  0.19.0   \n",
       "\n",
       "                                                                  path  \n",
       "0       /root/anaconda2/lib/python2.7/site-packages/numpy/__init__.pyc  \n",
       "1  /root/anaconda2/lib/python2.7/site-packages/matplotlib/__init__.pyc  \n",
       "2      /root/anaconda2/lib/python2.7/site-packages/pandas/__init__.pyc  \n",
       "3       /root/anaconda2/lib/python2.7/site-packages/scipy/__init__.pyc  "
      ]
     },
     "execution_count": 4,
     "metadata": {},
     "output_type": "execute_result"
    }
   ],
   "source": [
    "import numpy\n",
    "import matplotlib\n",
    "import pandas as pd\n",
    "import scipy\n",
    "\n",
    "packs = [\n",
    "    (\"numpy\", numpy.__version__, numpy.__file__),\n",
    "    (\"matplotlib\", matplotlib.__version__, matplotlib.__file__),\n",
    "    (\"pandas\", pd.__version__, pd.__file__),\n",
    "    (\"scipy\", scipy.__version__, scipy.__file__)\n",
    "]\n",
    "\n",
    "pd_packages = pd.DataFrame(packs, columns=[\"pack_name\", \"version\", \"path\"])\n",
    "pd.set_option(\"max_colwidth\", 120)\n",
    "pd_packages"
   ]
  },
  {
   "cell_type": "markdown",
   "metadata": {},
   "source": [
    "### 3  Anaconda2 集成包简单分析"
   ]
  },
  {
   "cell_type": "code",
   "execution_count": 10,
   "metadata": {
    "collapsed": true
   },
   "outputs": [],
   "source": [
    "import sys\n",
    "%matplotlib inline\n",
    "\n",
    "packages = [pack.split(\".\")[0] for pack in sys.modules.keys()]\n",
    "pd_packages = pd.DataFrame(packages, columns=[\"package\"])\n",
    "pack_series = pd_packages.groupby(by=\"package\").size()"
   ]
  },
  {
   "cell_type": "code",
   "execution_count": 11,
   "metadata": {},
   "outputs": [
    {
     "data": {
      "text/plain": [
       "count    214.000000\n",
       "mean      10.163551\n",
       "std       37.323436\n",
       "min        1.000000\n",
       "25%        1.000000\n",
       "50%        1.000000\n",
       "75%        1.000000\n",
       "max      411.000000\n",
       "dtype: float64"
      ]
     },
     "execution_count": 11,
     "metadata": {},
     "output_type": "execute_result"
    }
   ],
   "source": [
    "pack_series.describe()"
   ]
  },
  {
   "cell_type": "code",
   "execution_count": 12,
   "metadata": {},
   "outputs": [
    {
     "data": {
      "text/plain": [
       "214"
      ]
     },
     "execution_count": 12,
     "metadata": {},
     "output_type": "execute_result"
    }
   ],
   "source": [
    "pack_series.index.duplicated()\n",
    "pack_temp = pack_series.index.drop_duplicates()\n",
    "len(pack_temp)"
   ]
  },
  {
   "cell_type": "markdown",
   "metadata": {},
   "source": [
    "### 3.1  根据 Anaconda 2包中的模块数量倒序 绘图"
   ]
  },
  {
   "cell_type": "code",
   "execution_count": 14,
   "metadata": {},
   "outputs": [
    {
     "data": {
      "image/png": "[encoded data removed]",
      "text/plain": [
       "<matplotlib.figure.Figure at 0x7f861ae758d0>"
      ]
     },
     "metadata": {},
     "output_type": "display_data"
    }
   ],
   "source": [
    "pack_series.sort_values(ascending=False)[:50].plot();"
   ]
  },
  {
   "cell_type": "code",
   "execution_count": 9,
   "metadata": {},
   "outputs": [
    {
     "data": {
      "text/plain": [
       "package\n",
       "pandas            406\n",
       "IPython           263\n",
       "prompt_toolkit    146\n",
       "matplotlib         92\n",
       "_pytest            91\n",
       "numpy              87\n",
       "ipykernel          71\n",
       "zmq                66\n",
       "jupyter_client     52\n",
       "py                 51\n",
       "xlsxwriter         50\n",
       "email              49\n",
       "pygments           49\n",
       "ipywidgets         42\n",
       "pkg_resources      42\n",
       "traitlets          42\n",
       "dateutil           35\n",
       "bottleneck         27\n",
       "numexpr            25\n",
       "unittest           24\n",
       "dtype: int64"
      ]
     },
     "execution_count": 9,
     "metadata": {},
     "output_type": "execute_result"
    }
   ],
   "source": [
    "pack_series.sort_values(ascending=False)[:20]"
   ]
  },
  {
   "cell_type": "markdown",
   "metadata": {},
   "source": [
    "### 3.2  Aanaconda 2 中模块信息"
   ]
  },
  {
   "cell_type": "code",
   "execution_count": null,
   "metadata": {
    "scrolled": false
   },
   "outputs": [
    {
     "name": "stdout",
     "output_type": "stream",
     "text": [
      "\n",
      "Please wait a moment while I gather a list of all available modules...\n",
      "\n"
     ]
    },
    {
     "name": "stderr",
     "output_type": "stream",
     "text": [
      "/root/anaconda2/lib/python2.7/site-packages/IPython/kernel/__init__.py:13: ShimWarning: The `IPython.kernel` package has been deprecated since IPython 4.0.You should import from ipykernel or jupyter_client instead.\n",
      "  \"You should import from ipykernel or jupyter_client instead.\", ShimWarning)\n",
      "/root/anaconda2/lib/python2.7/site-packages/odo/backends/pandas.py:94: FutureWarning: pandas.tslib is deprecated and will be removed in a future version.\n",
      "You can access NaTType as type(pandas.NaT)\n",
      "  @convert.register((pd.Timestamp, pd.Timedelta), (pd.tslib.NaTType, type(None)))\n",
      "/root/anaconda2/lib/python2.7/site-packages/blaze/server/server.py:17: ExtDeprecationWarning: Importing flask.ext.cors is deprecated, use flask_cors instead.\n",
      "  from flask.ext.cors import cross_origin\n",
      "/root/anaconda2/lib/python2.7/site-packages/bokeh/util/deprecation.py:34: BokehDeprecationWarning: MPL compatibility can no longer be successfully maintained, and is now deprecated. All MPL compat functions will be removed completely on the release of Bokeh 1.0. See http://bokeh.pydata.org/en/latest/docs/releases/0.12.5.html for more information\n",
      "  warn(message)\n",
      "/root/anaconda2/lib/python2.7/site-packages/matplotlib/cbook.py:136: MatplotlibDeprecationWarning: The matplotlib.delaunay module was deprecated in version 1.4. Use matplotlib.tri.Triangulation instead.\n",
      "  warnings.warn(message, mplDeprecation, stacklevel=1)\n",
      "/root/anaconda2/lib/python2.7/site-packages/nltk/twitter/__init__.py:20: UserWarning: The twython library has not been installed. Some functionality from the twitter package will not be available.\n",
      "  warnings.warn(\"The twython library has not been installed. \"\n",
      "/root/anaconda2/lib/python2.7/site-packages/skimage/viewer/utils/core.py:10: UserWarning: Recommended matplotlib backend is `Agg` for full skimage.viewer functionality.\n",
      "  warn(\"Recommended matplotlib backend is `Agg` for full \"\n",
      "/root/anaconda2/lib/python2.7/site-packages/qtawesome/iconic_font.py:268: UserWarning: You need to have a running QApplication to use QtAwesome!\n",
      "  warnings.warn(\"You need to have a running \"\n",
      "/root/anaconda2/lib/python2.7/site-packages/statsmodels/compat/pandas.py:56: FutureWarning: The pandas.core.datetools module is deprecated and will be removed in a future version. Please use the pandas.tseries module instead.\n",
      "  from pandas.core import datetools\n"
     ]
    },
    {
     "name": "stdout",
     "output_type": "stream",
     "text": [
      "BaseHTTPServer      bs4                 jupyter_core        scripts\n",
      "Bastion             bsddb               keyword             seaborn\n",
      "CDROM               bz2                 lazy_object_proxy   select\n",
      "CGIHTTPServer       cPickle             lib2to3             sets\n",
      "Canvas              cProfile            linecache           setuptools\n",
      "ConfigParser        cStringIO           linuxaudiodev       sgmllib\n",
      "Cookie              cairo               llvmlite            sha\n",
      "Crypto              calendar            locale              shelve\n",
      "Cython              cdecimal            locket              shlex\n",
      "DLFCN               cffi                logging             shutil\n",
      "Dialog              cgi                 lxml                signal\n",
      "DocXMLRPCServer     cgitb               macpath             simplegeneric\n",
      "FileDialog          chardet             macurl2path         singledispatch\n",
      "FixTk               chunk               mailbox             singledispatch_helpers\n",
      "HTMLParser          click               mailcap             sip\n",
      "IN                  cloudpickle         markupbase          sipconfig\n",
      "IPython             clyent              markupsafe          sipdistutils\n",
      "MimeWriter          cmath               marshal             site\n",
      "OleFileIO_PL        cmd                 math                six\n",
      "OpenSSL             code                matplotlib          skimage\n",
      "PIL                 codecs              md5                 sklearn\n",
      "PyQt5               codeop              mhlib               smtpd\n",
      "Queue               collections         mimetools           smtplib\n",
      "ScrolledText        colorama            mimetypes           sndhdr\n",
      "SimpleDialog        colorsys            mimify              snowballstemmer\n",
      "SimpleHTTPServer    command             mistune             socket\n",
      "SimpleXMLRPCServer  commands            mkl                 sortedcollections\n",
      "SocketServer        compileall          mmap                sortedcontainers\n",
      "StringIO            compiler            modulefinder        sphinx\n",
      "TYPES               concurrent          mpl_toolkits        spwd\n",
      "Tix                 conda               mpmath              spyder\n",
      "Tkconstants         conda_env           msgpack             spyder_breakpoints\n",
      "Tkdnd               configparser        multifile           spyder_io_dcm\n",
      "Tkinter             contextlib          multipledispatch    spyder_io_hdf5\n",
      "UserDict            contextlib2         multiprocessing     spyder_profiler\n",
      "UserList            cookielib           mutex               spyder_pylint\n",
      "UserString          copy                navigator_updater   sqlalchemy\n",
      "_LWPCookieJar       copy_reg            nbconvert           sqlite3\n",
      "_MozillaCookieJar   crypt               nbformat            sre\n",
      "__builtin__         cryptography        netrc               sre_compile\n",
      "__future__          csv                 networkx            sre_constants\n",
      "_abcoll             ctypes              new                 sre_parse\n",
      "_ast                curl                nis                 ssl\n",
      "_bisect             curses              nltk                stat\n",
      "_cffi_backend       cycler              nntplib             statsmodels\n",
      "_codecs             cython              nose                statvfs\n",
      "_codecs_cn          cythonmagic         notebook            storemagic\n",
      "_codecs_hk          cytoolz             ntpath              string\n",
      "_codecs_iso2022     dask                nturl2path          stringold\n",
      "_codecs_jp          datashape           numba               stringprep\n",
      "_codecs_kr          datetime            numbers             strop\n",
      "_codecs_tw          dateutil            numexpr             struct\n",
      "_collections        dbhash              numpy               subprocess\n",
      "_csv                decimal             numpydoc            subprocess32\n",
      "_ctypes             decorator           odo                 sunau\n",
      "_ctypes_test        difflib             olefile             sunaudio\n",
      "_curses             dircache            opcode              symbol\n",
      "_curses_panel       dis                 openpyxl            sympy\n",
      "_elementtree        distributed         operator            sympyprinting\n",
      "_functools          distutils           optparse            symtable\n",
      "_hashlib            doctest             os                  sys\n",
      "_heapq              docutils            os2emxpath          sysconfig\n",
      "_hotshot            dumbdbm             ossaudiodev         syslog\n",
      "_io                 dummy_thread        packaging           tables\n",
      "_json               dummy_threading     pandas              tabnanny\n",
      "_license            easy_install        pandocfilters       tarfile\n",
      "_locale             email               parser              tblib\n",
      "_lsprof             encodings           partd               telnetlib\n",
      "_multibytecodec     entrypoints         path                tempfile\n",
      "_multiprocessing    enum                pathlib2            terminado\n",
      "_osx_support        errno               patsy               termios\n",
      "_posixsubprocess    et_xmlfile          pdb                 test_path\n",
      "_pyio               exceptions          pep8                test_pycosat\n",
      "_pytest             extern              pexpect             testpath\n",
      "_random             fastcache           pickle              tests\n",
      "_scandir            fcntl               pickleshare         textwrap\n",
      "_socket             filecmp             pickletools         this\n",
      "_sqlite3            fileinput           pip                 thread\n",
      "_sre                flask               pipes               threading\n",
      "_ssl                flask_cors          pkg_resources       time\n",
      "_strptime           fnmatch             pkgutil             timeit\n",
      "_struct             formatter           platform            tkColorChooser\n",
      "_symtable           fpformat            plistlib            tkCommonDialog\n",
      "_sysconfigdata      fractions           ply                 tkFileDialog\n",
      "_testcapi           ftplib              popen2              tkFont\n",
      "_threading_local    funcsigs            poplib              tkMessageBox\n",
      "_tkinter            functools           posix               tkSimpleDialog\n",
      "_vendor             functools32         posixfile           tlz\n",
      "_warnings           future_builtins     posixpath           toaiff\n",
      "_weakref            gc                  pprint              token\n",
      "_weakrefset         genericpath         profile             tokenize\n",
      "_yaml               getopt              prompt_toolkit      toolz\n",
      "abc                 getpass             pstats              tornado\n",
      "aifc                gettext             psutil              trace\n",
      "alabaster           gevent              pty                 traceback\n",
      "anaconda_navigator  glob                ptyprocess          traitlets\n",
      "anaconda_project    greenlet            pwd                 ttk\n",
      "antigravity         grin                py                  tty\n",
      "anydbm              grp                 py_compile          turtle\n",
      "argparse            gzip                pyclbr              types\n",
      "array               h5py                pycosat             unicodecsv\n",
      "asn1crypto          hashlib             pycparser           unicodedata\n",
      "ast                 heapdict            pycurl              unittest\n",
      "astroid             heapq               pydoc               urllib\n",
      "astropy             hmac                pydoc_data          urllib2\n",
      "asynchat            hotshot             pyexpat             urlparse\n",
      "asyncore            html5lib            pyflakes            user\n",
      "atexit              htmlentitydefs      pygments            uu\n",
      "audiodev            htmllib             pylab               uuid\n",
      "audioop             httplib             pylint              warnings\n",
      "autoreload          idlelib             pyodbc              wave\n",
      "babel               idna                pyparsing           wcwidth\n",
      "backports           ihooks              pytest              weakref\n",
      "backports_abc       imagesize           pytz                webbrowser\n",
      "base64              imaplib             pywt                werkzeug\n",
      "bdb                 imghdr              pyximport           wheel\n",
      "binascii            imp                 qtawesome           whichdb\n",
      "binhex              importlib           qtconsole           widgetsnbextension\n",
      "binstar_client      imputil             qtpy                wrapt\n",
      "bisect              inspect             quopri              wsgiref\n",
      "bitarray            io                  random              xdrlib\n",
      "blaze               ipaddress           re                  xlrd\n",
      "bleach              ipykernel           readline            xlsxwriter\n",
      "bokeh               ipykernel_launcher  repr                xlwt\n",
      "boto                ipython_genutils    requests            xml\n",
      "bottleneck          ipywidgets          resource            xmllib\n",
      "brain_builtin_inference isort               rexec               xmlrpclib\n",
      "brain_dateutil      itertools           rfc822              xxsubtype\n",
      "brain_gi            itsdangerous        rlcompleter         yaml\n",
      "brain_mechanize     jdcal               rmagic              zict\n",
      "brain_nose          jedi                robotparser         zipfile\n",
      "brain_numpy         jinja2              rope                zipimport\n",
      "brain_pytest        json                ruamel_yaml         zlib\n",
      "brain_qt            jsonschema          runpy               zmq\n",
      "brain_six           jupyter             scandir             \n",
      "brain_ssl           jupyter_client      sched               \n",
      "brain_stdlib        jupyter_console     scipy               \n",
      "\n",
      "Enter any module name to get more help.  Or, type \"modules spam\" to search\n",
      "for modules whose descriptions contain the word \"spam\".\n",
      "\n"
     ]
    }
   ],
   "source": [
    "help(\"modules\")"
   ]
  }
 ],
 "metadata": {
  "kernelspec": {
   "display_name": "Python 2",
   "language": "python",
   "name": "python2.7"
  },
  "language_info": {
   "codemirror_mode": {
    "name": "ipython",
    "version": 2
   },
   "file_extension": ".py",
   "mimetype": "text/x-python",
   "name": "python",
   "nbconvert_exporter": "python",
   "pygments_lexer": "ipython2",
   "version": "2.7.13"
  }
 },
 "nbformat": 4,
 "nbformat_minor": 2
}
