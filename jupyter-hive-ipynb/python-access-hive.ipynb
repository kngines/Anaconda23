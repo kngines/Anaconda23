{
 "cells": [
  {
   "cell_type": "markdown",
   "metadata": {},
   "source": [
    "## python 访问Hive数据"
   ]
  },
  {
   "cell_type": "code",
   "execution_count": 81,
   "metadata": {},
   "outputs": [],
   "source": [
    "import pyhs2\n",
    "import pandas as pd\n",
    "pd.set_option(\"display.max_rows\",500)\n",
    "pd.set_option(\"display.max_columns\",200)\n",
    "pd.set_option(\"display.max_colwidth\",500)\n",
    "\n",
    "conn= pyhs2.connect(host='localhost',port=10000,authMechanism=\"PLAIN\",user='root',password='root',database='default')\n",
    "cursor=conn.cursor()"
   ]
  },
  {
   "cell_type": "markdown",
   "metadata": {},
   "source": [
    "### 1 fetchall 示例1"
   ]
  },
  {
   "cell_type": "code",
   "execution_count": 8,
   "metadata": {},
   "outputs": [],
   "source": [
    "sql = \"\"\"\n",
    "select * from person limit 30\n",
    "\"\"\"\n",
    "cursor.execute(sql)\n",
    "results = cursor.fetchall()\n",
    "result_df = pd.DataFrame(results, columns=['name','cert_code'])"
   ]
  },
  {
   "cell_type": "code",
   "execution_count": 18,
   "metadata": {},
   "outputs": [
    {
     "data": {
      "text/html": [
       "<div>\n",
       "<style scoped>\n",
       "    .dataframe tbody tr th:only-of-type {\n",
       "        vertical-align: middle;\n",
       "    }\n",
       "\n",
       "    .dataframe tbody tr th {\n",
       "        vertical-align: top;\n",
       "    }\n",
       "\n",
       "    .dataframe thead th {\n",
       "        text-align: right;\n",
       "    }\n",
       "</style>\n",
       "<table border=\"1\" class=\"dataframe\">\n",
       "  <thead>\n",
       "    <tr style=\"text-align: right;\">\n",
       "      <th></th>\n",
       "      <th>name</th>\n",
       "      <th>cert_code</th>\n",
       "    </tr>\n",
       "  </thead>\n",
       "  <tbody>\n",
       "    <tr>\n",
       "      <th>0</th>\n",
       "      <td>neil</td>\n",
       "      <td>411326199402110030</td>\n",
       "    </tr>\n",
       "    <tr>\n",
       "      <th>1</th>\n",
       "      <td>pony</td>\n",
       "      <td>41132519950911004x</td>\n",
       "    </tr>\n",
       "    <tr>\n",
       "      <th>2</th>\n",
       "      <td>jcak</td>\n",
       "      <td>12312423454556561</td>\n",
       "    </tr>\n",
       "  </tbody>\n",
       "</table>\n",
       "</div>"
      ],
      "text/plain": [
       "   name           cert_code\n",
       "0  neil  411326199402110030\n",
       "1  pony  41132519950911004x\n",
       "2  jcak   12312423454556561"
      ]
     },
     "execution_count": 18,
     "metadata": {},
     "output_type": "execute_result"
    }
   ],
   "source": [
    "result_df.head(3)"
   ]
  },
  {
   "cell_type": "markdown",
   "metadata": {},
   "source": [
    "### 2 fetchall示例2"
   ]
  },
  {
   "cell_type": "code",
   "execution_count": 73,
   "metadata": {
    "scrolled": false
   },
   "outputs": [
    {
     "data": {
      "application/vnd.dataresource+json": {
       "data": [
        {
         "col_name": "# col_name            ",
         "comment": "comment             ",
         "data_type": "data_type           ",
         "index": 0
        },
        {
         "col_name": "",
         "comment": null,
         "data_type": null,
         "index": 1
        },
        {
         "col_name": "name",
         "comment": "",
         "data_type": "string",
         "index": 2
        },
        {
         "col_name": "idcard",
         "comment": "",
         "data_type": "string",
         "index": 3
        },
        {
         "col_name": "",
         "comment": null,
         "data_type": null,
         "index": 4
        },
        {
         "col_name": "# Detailed Table Information",
         "comment": null,
         "data_type": null,
         "index": 5
        },
        {
         "col_name": "Database:           ",
         "comment": null,
         "data_type": "default             ",
         "index": 6
        },
        {
         "col_name": "Owner:              ",
         "comment": null,
         "data_type": "root                ",
         "index": 7
        },
        {
         "col_name": "CreateTime:         ",
         "comment": null,
         "data_type": "Sun Jun 30 04:52:25 UTC 2019",
         "index": 8
        },
        {
         "col_name": "LastAccessTime:     ",
         "comment": null,
         "data_type": "UNKNOWN             ",
         "index": 9
        },
        {
         "col_name": "Retention:          ",
         "comment": null,
         "data_type": "0                   ",
         "index": 10
        },
        {
         "col_name": "Location:           ",
         "comment": null,
         "data_type": "hdfs://localhost:8020/user/hive/warehouse/person",
         "index": 11
        },
        {
         "col_name": "Table Type:         ",
         "comment": null,
         "data_type": "EXTERNAL_TABLE      ",
         "index": 12
        },
        {
         "col_name": "Table Parameters:",
         "comment": null,
         "data_type": null,
         "index": 13
        },
        {
         "col_name": "",
         "comment": "{\\\"BASIC_STATS\\\":\\\"true\\\"}",
         "data_type": "COLUMN_STATS_ACCURATE",
         "index": 14
        },
        {
         "col_name": "",
         "comment": "TRUE                ",
         "data_type": "EXTERNAL            ",
         "index": 15
        },
        {
         "col_name": "",
         "comment": "0                   ",
         "data_type": "numFiles            ",
         "index": 16
        },
        {
         "col_name": "",
         "comment": "0                   ",
         "data_type": "numRows             ",
         "index": 17
        },
        {
         "col_name": "",
         "comment": "0                   ",
         "data_type": "rawDataSize         ",
         "index": 18
        },
        {
         "col_name": "",
         "comment": "0                   ",
         "data_type": "totalSize           ",
         "index": 19
        },
        {
         "col_name": "",
         "comment": "1561870345          ",
         "data_type": "transient_lastDdlTime",
         "index": 20
        },
        {
         "col_name": "",
         "comment": null,
         "data_type": null,
         "index": 21
        },
        {
         "col_name": "# Storage Information",
         "comment": null,
         "data_type": null,
         "index": 22
        },
        {
         "col_name": "SerDe Library:      ",
         "comment": null,
         "data_type": "org.apache.hadoop.hive.serde2.lazy.LazySimpleSerDe",
         "index": 23
        },
        {
         "col_name": "InputFormat:        ",
         "comment": null,
         "data_type": "org.apache.hadoop.mapred.TextInputFormat",
         "index": 24
        },
        {
         "col_name": "OutputFormat:       ",
         "comment": null,
         "data_type": "org.apache.hadoop.hive.ql.io.HiveIgnoreKeyTextOutputFormat",
         "index": 25
        },
        {
         "col_name": "Compressed:         ",
         "comment": null,
         "data_type": "No                  ",
         "index": 26
        },
        {
         "col_name": "Num Buckets:        ",
         "comment": null,
         "data_type": "-1                  ",
         "index": 27
        },
        {
         "col_name": "Bucket Columns:     ",
         "comment": null,
         "data_type": "[]                  ",
         "index": 28
        },
        {
         "col_name": "Sort Columns:       ",
         "comment": null,
         "data_type": "[]                  ",
         "index": 29
        },
        {
         "col_name": "Storage Desc Params:",
         "comment": null,
         "data_type": null,
         "index": 30
        },
        {
         "col_name": "",
         "comment": "\\t                  ",
         "data_type": "field.delim         ",
         "index": 31
        },
        {
         "col_name": "",
         "comment": "\\t                  ",
         "data_type": "serialization.format",
         "index": 32
        }
       ],
       "schema": {
        "fields": [
         {
          "name": "index",
          "type": "integer"
         },
         {
          "name": "col_name",
          "type": "string"
         },
         {
          "name": "data_type",
          "type": "string"
         },
         {
          "name": "comment",
          "type": "string"
         }
        ],
        "pandas_version": "0.20.0",
        "primaryKey": [
         "index"
        ]
       }
      },
      "text/html": [
       "<div>\n",
       "<style scoped>\n",
       "    .dataframe tbody tr th:only-of-type {\n",
       "        vertical-align: middle;\n",
       "    }\n",
       "\n",
       "    .dataframe tbody tr th {\n",
       "        vertical-align: top;\n",
       "    }\n",
       "\n",
       "    .dataframe thead th {\n",
       "        text-align: right;\n",
       "    }\n",
       "</style>\n",
       "<table border=\"1\" class=\"dataframe\">\n",
       "  <thead>\n",
       "    <tr style=\"text-align: left;\">\n",
       "      <th></th>\n",
       "      <th>col_name</th>\n",
       "      <th>data_type</th>\n",
       "      <th>comment</th>\n",
       "    </tr>\n",
       "  </thead>\n",
       "  <tbody>\n",
       "    <tr>\n",
       "      <th>0</th>\n",
       "      <td># col_name</td>\n",
       "      <td>data_type</td>\n",
       "      <td>comment</td>\n",
       "    </tr>\n",
       "    <tr>\n",
       "      <th>1</th>\n",
       "      <td></td>\n",
       "      <td>None</td>\n",
       "      <td>None</td>\n",
       "    </tr>\n",
       "    <tr>\n",
       "      <th>2</th>\n",
       "      <td>name</td>\n",
       "      <td>string</td>\n",
       "      <td></td>\n",
       "    </tr>\n",
       "    <tr>\n",
       "      <th>3</th>\n",
       "      <td>idcard</td>\n",
       "      <td>string</td>\n",
       "      <td></td>\n",
       "    </tr>\n",
       "    <tr>\n",
       "      <th>4</th>\n",
       "      <td></td>\n",
       "      <td>None</td>\n",
       "      <td>None</td>\n",
       "    </tr>\n",
       "    <tr>\n",
       "      <th>5</th>\n",
       "      <td># Detailed Table Information</td>\n",
       "      <td>None</td>\n",
       "      <td>None</td>\n",
       "    </tr>\n",
       "    <tr>\n",
       "      <th>6</th>\n",
       "      <td>Database:</td>\n",
       "      <td>default</td>\n",
       "      <td>None</td>\n",
       "    </tr>\n",
       "    <tr>\n",
       "      <th>7</th>\n",
       "      <td>Owner:</td>\n",
       "      <td>root</td>\n",
       "      <td>None</td>\n",
       "    </tr>\n",
       "    <tr>\n",
       "      <th>8</th>\n",
       "      <td>CreateTime:</td>\n",
       "      <td>Sun Jun 30 04:52:25 UTC 2019</td>\n",
       "      <td>None</td>\n",
       "    </tr>\n",
       "    <tr>\n",
       "      <th>9</th>\n",
       "      <td>LastAccessTime:</td>\n",
       "      <td>UNKNOWN</td>\n",
       "      <td>None</td>\n",
       "    </tr>\n",
       "    <tr>\n",
       "      <th>10</th>\n",
       "      <td>Retention:</td>\n",
       "      <td>0</td>\n",
       "      <td>None</td>\n",
       "    </tr>\n",
       "    <tr>\n",
       "      <th>11</th>\n",
       "      <td>Location:</td>\n",
       "      <td>hdfs://localhost:8020/user/hive/warehouse/person</td>\n",
       "      <td>None</td>\n",
       "    </tr>\n",
       "    <tr>\n",
       "      <th>12</th>\n",
       "      <td>Table Type:</td>\n",
       "      <td>EXTERNAL_TABLE</td>\n",
       "      <td>None</td>\n",
       "    </tr>\n",
       "    <tr>\n",
       "      <th>13</th>\n",
       "      <td>Table Parameters:</td>\n",
       "      <td>None</td>\n",
       "      <td>None</td>\n",
       "    </tr>\n",
       "    <tr>\n",
       "      <th>14</th>\n",
       "      <td></td>\n",
       "      <td>COLUMN_STATS_ACCURATE</td>\n",
       "      <td>{\\\"BASIC_STATS\\\":\\\"true\\\"}</td>\n",
       "    </tr>\n",
       "    <tr>\n",
       "      <th>15</th>\n",
       "      <td></td>\n",
       "      <td>EXTERNAL</td>\n",
       "      <td>TRUE</td>\n",
       "    </tr>\n",
       "    <tr>\n",
       "      <th>16</th>\n",
       "      <td></td>\n",
       "      <td>numFiles</td>\n",
       "      <td>0</td>\n",
       "    </tr>\n",
       "    <tr>\n",
       "      <th>17</th>\n",
       "      <td></td>\n",
       "      <td>numRows</td>\n",
       "      <td>0</td>\n",
       "    </tr>\n",
       "    <tr>\n",
       "      <th>18</th>\n",
       "      <td></td>\n",
       "      <td>rawDataSize</td>\n",
       "      <td>0</td>\n",
       "    </tr>\n",
       "    <tr>\n",
       "      <th>19</th>\n",
       "      <td></td>\n",
       "      <td>totalSize</td>\n",
       "      <td>0</td>\n",
       "    </tr>\n",
       "    <tr>\n",
       "      <th>20</th>\n",
       "      <td></td>\n",
       "      <td>transient_lastDdlTime</td>\n",
       "      <td>1561870345</td>\n",
       "    </tr>\n",
       "    <tr>\n",
       "      <th>21</th>\n",
       "      <td></td>\n",
       "      <td>None</td>\n",
       "      <td>None</td>\n",
       "    </tr>\n",
       "    <tr>\n",
       "      <th>22</th>\n",
       "      <td># Storage Information</td>\n",
       "      <td>None</td>\n",
       "      <td>None</td>\n",
       "    </tr>\n",
       "    <tr>\n",
       "      <th>23</th>\n",
       "      <td>SerDe Library:</td>\n",
       "      <td>org.apache.hadoop.hive.serde2.lazy.LazySimpleSerDe</td>\n",
       "      <td>None</td>\n",
       "    </tr>\n",
       "    <tr>\n",
       "      <th>24</th>\n",
       "      <td>InputFormat:</td>\n",
       "      <td>org.apache.hadoop.mapred.TextInputFormat</td>\n",
       "      <td>None</td>\n",
       "    </tr>\n",
       "    <tr>\n",
       "      <th>25</th>\n",
       "      <td>OutputFormat:</td>\n",
       "      <td>org.apache.hadoop.hive.ql.io.HiveIgnoreKeyTextOutputFormat</td>\n",
       "      <td>None</td>\n",
       "    </tr>\n",
       "    <tr>\n",
       "      <th>26</th>\n",
       "      <td>Compressed:</td>\n",
       "      <td>No</td>\n",
       "      <td>None</td>\n",
       "    </tr>\n",
       "    <tr>\n",
       "      <th>27</th>\n",
       "      <td>Num Buckets:</td>\n",
       "      <td>-1</td>\n",
       "      <td>None</td>\n",
       "    </tr>\n",
       "    <tr>\n",
       "      <th>28</th>\n",
       "      <td>Bucket Columns:</td>\n",
       "      <td>[]</td>\n",
       "      <td>None</td>\n",
       "    </tr>\n",
       "    <tr>\n",
       "      <th>29</th>\n",
       "      <td>Sort Columns:</td>\n",
       "      <td>[]</td>\n",
       "      <td>None</td>\n",
       "    </tr>\n",
       "    <tr>\n",
       "      <th>30</th>\n",
       "      <td>Storage Desc Params:</td>\n",
       "      <td>None</td>\n",
       "      <td>None</td>\n",
       "    </tr>\n",
       "    <tr>\n",
       "      <th>31</th>\n",
       "      <td></td>\n",
       "      <td>field.delim</td>\n",
       "      <td>\\t</td>\n",
       "    </tr>\n",
       "    <tr>\n",
       "      <th>32</th>\n",
       "      <td></td>\n",
       "      <td>serialization.format</td>\n",
       "      <td>\\t</td>\n",
       "    </tr>\n",
       "  </tbody>\n",
       "</table>\n",
       "</div>"
      ],
      "text/plain": [
       "   col_name                       \\\n",
       "0         # col_name               \n",
       "1                                  \n",
       "2                           name   \n",
       "3                         idcard   \n",
       "4                                  \n",
       "5   # Detailed Table Information   \n",
       "6           Database:              \n",
       "7           Owner:                 \n",
       "8           CreateTime:            \n",
       "9           LastAccessTime:        \n",
       "10          Retention:             \n",
       "11          Location:              \n",
       "12          Table Type:            \n",
       "13             Table Parameters:   \n",
       "14                                 \n",
       "15                                 \n",
       "16                                 \n",
       "17                                 \n",
       "18                                 \n",
       "19                                 \n",
       "20                                 \n",
       "21                                 \n",
       "22         # Storage Information   \n",
       "23          SerDe Library:         \n",
       "24          InputFormat:           \n",
       "25          OutputFormat:          \n",
       "26          Compressed:            \n",
       "27          Num Buckets:           \n",
       "28          Bucket Columns:        \n",
       "29          Sort Columns:          \n",
       "30          Storage Desc Params:   \n",
       "31                                 \n",
       "32                                 \n",
       "\n",
       "   data_type                                                    \\\n",
       "0                                         data_type              \n",
       "1                                                         None   \n",
       "2                                                       string   \n",
       "3                                                       string   \n",
       "4                                                         None   \n",
       "5                                                         None   \n",
       "6                                         default                \n",
       "7                                         root                   \n",
       "8                                 Sun Jun 30 04:52:25 UTC 2019   \n",
       "9                                         UNKNOWN                \n",
       "10                                        0                      \n",
       "11            hdfs://localhost:8020/user/hive/warehouse/person   \n",
       "12                                        EXTERNAL_TABLE         \n",
       "13                                                        None   \n",
       "14                                       COLUMN_STATS_ACCURATE   \n",
       "15                                        EXTERNAL               \n",
       "16                                        numFiles               \n",
       "17                                        numRows                \n",
       "18                                        rawDataSize            \n",
       "19                                        totalSize              \n",
       "20                                       transient_lastDdlTime   \n",
       "21                                                        None   \n",
       "22                                                        None   \n",
       "23          org.apache.hadoop.hive.serde2.lazy.LazySimpleSerDe   \n",
       "24                    org.apache.hadoop.mapred.TextInputFormat   \n",
       "25  org.apache.hadoop.hive.ql.io.HiveIgnoreKeyTextOutputFormat   \n",
       "26                                        No                     \n",
       "27                                        -1                     \n",
       "28                                        []                     \n",
       "29                                        []                     \n",
       "30                                                        None   \n",
       "31                                        field.delim            \n",
       "32                                        serialization.format   \n",
       "\n",
       "   comment                      \n",
       "0         comment               \n",
       "1                         None  \n",
       "2                               \n",
       "3                               \n",
       "4                         None  \n",
       "5                         None  \n",
       "6                         None  \n",
       "7                         None  \n",
       "8                         None  \n",
       "9                         None  \n",
       "10                        None  \n",
       "11                        None  \n",
       "12                        None  \n",
       "13                        None  \n",
       "14  {\\\"BASIC_STATS\\\":\\\"true\\\"}  \n",
       "15        TRUE                  \n",
       "16        0                     \n",
       "17        0                     \n",
       "18        0                     \n",
       "19        0                     \n",
       "20        1561870345            \n",
       "21                        None  \n",
       "22                        None  \n",
       "23                        None  \n",
       "24                        None  \n",
       "25                        None  \n",
       "26                        None  \n",
       "27                        None  \n",
       "28                        None  \n",
       "29                        None  \n",
       "30                        None  \n",
       "31        \\t                    \n",
       "32        \\t                    "
      ]
     },
     "execution_count": 73,
     "metadata": {},
     "output_type": "execute_result"
    }
   ],
   "source": [
    "sql = \"\"\"\n",
    "desc formatted person\n",
    "\"\"\"\n",
    "cursor.execute(sql)\n",
    "data = cursor.fetchall()\n",
    "\n",
    "tab_schema = pd.DataFrame(data,columns=['col_name','data_type','comment'])\n",
    "tab_schema"
   ]
  },
  {
   "cell_type": "markdown",
   "metadata": {},
   "source": [
    "### 3 fetchone 示例1"
   ]
  },
  {
   "cell_type": "code",
   "execution_count": 91,
   "metadata": {},
   "outputs": [],
   "source": [
    "sql = \"\"\"\n",
    "select version()\n",
    "\"\"\"\n",
    "cursor.execute(sql)\n",
    "data = cursor.fetchone()"
   ]
  },
  {
   "cell_type": "code",
   "execution_count": 92,
   "metadata": {},
   "outputs": [
    {
     "name": "stdout",
     "output_type": "stream",
     "text": [
      "['2.3.3 r8a511e3f79b43d4be41cd231cf5c99e43b248383']\n"
     ]
    }
   ],
   "source": [
    "print data"
   ]
  },
  {
   "cell_type": "code",
   "execution_count": 96,
   "metadata": {},
   "outputs": [
    {
     "name": "stderr",
     "output_type": "stream",
     "text": [
      "UsageError: Cell magic `%%sql` not found.\n"
     ]
    }
   ],
   "source": [
    "%%sql show person"
   ]
  }
 ],
 "metadata": {
  "kernelspec": {
   "display_name": "Python 2",
   "language": "python",
   "name": "python2"
  },
  "language_info": {
   "codemirror_mode": {
    "name": "ipython",
    "version": 2
   },
   "file_extension": ".py",
   "mimetype": "text/x-python",
   "name": "python",
   "nbconvert_exporter": "python",
   "pygments_lexer": "ipython2",
   "version": "2.7.16"
  }
 },
 "nbformat": 4,
 "nbformat_minor": 2
}
